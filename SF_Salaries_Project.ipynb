{
 "cells": [
  {
   "cell_type": "markdown",
   "id": "8e1def82-0b1d-44b4-84b4-a9b089cdf9a3",
   "metadata": {},
   "source": [
    "# Libraries\n",
    " I import the nessecery libraries "
   ]
  },
  {
   "cell_type": "code",
   "execution_count": 520,
   "id": "e9722866-2f5b-4cf9-b069-8ab11a8d71ac",
   "metadata": {},
   "outputs": [],
   "source": [
    "import numpy as np\n",
    "import pandas as pd\n",
    "import seaborn as sns\n",
    "import matplotlib.pyplot as plt\n",
    "import scipy.stats as stats\n",
    "from scipy.stats import norm\n"
   ]
  },
  {
   "cell_type": "code",
   "execution_count": 5,
   "id": "7b3320c8-6db3-4de6-962c-86867ffaa8c0",
   "metadata": {},
   "outputs": [],
   "source": [
    "sal=pd.read_csv('Salaries.csv')"
   ]
  },
  {
   "cell_type": "code",
   "execution_count": 142,
   "id": "c2a2d43b-6cd4-4f86-abec-1987bdf09450",
   "metadata": {},
   "outputs": [
    {
     "data": {
      "text/html": [
       "<div>\n",
       "<style scoped>\n",
       "    .dataframe tbody tr th:only-of-type {\n",
       "        vertical-align: middle;\n",
       "    }\n",
       "\n",
       "    .dataframe tbody tr th {\n",
       "        vertical-align: top;\n",
       "    }\n",
       "\n",
       "    .dataframe thead th {\n",
       "        text-align: right;\n",
       "    }\n",
       "</style>\n",
       "<table border=\"1\" class=\"dataframe\">\n",
       "  <thead>\n",
       "    <tr style=\"text-align: right;\">\n",
       "      <th></th>\n",
       "      <th>Id</th>\n",
       "      <th>EmployeeName</th>\n",
       "      <th>JobTitle</th>\n",
       "      <th>BasePay</th>\n",
       "      <th>OvertimePay</th>\n",
       "      <th>OtherPay</th>\n",
       "      <th>Benefits</th>\n",
       "      <th>TotalPay</th>\n",
       "      <th>TotalPayBenefits</th>\n",
       "      <th>Year</th>\n",
       "      <th>Notes</th>\n",
       "      <th>Agency</th>\n",
       "      <th>Status</th>\n",
       "    </tr>\n",
       "  </thead>\n",
       "  <tbody>\n",
       "    <tr>\n",
       "      <th>0</th>\n",
       "      <td>1</td>\n",
       "      <td>NATHANIEL FORD</td>\n",
       "      <td>GENERAL MANAGER-METROPOLITAN TRANSIT AUTHORITY</td>\n",
       "      <td>167411.18</td>\n",
       "      <td>0.00</td>\n",
       "      <td>400184.25</td>\n",
       "      <td>NaN</td>\n",
       "      <td>567595.43</td>\n",
       "      <td>567595.43</td>\n",
       "      <td>2011</td>\n",
       "      <td>NaN</td>\n",
       "      <td>San Francisco</td>\n",
       "      <td>NaN</td>\n",
       "    </tr>\n",
       "    <tr>\n",
       "      <th>1</th>\n",
       "      <td>2</td>\n",
       "      <td>GARY JIMENEZ</td>\n",
       "      <td>CAPTAIN III (POLICE DEPARTMENT)</td>\n",
       "      <td>155966.02</td>\n",
       "      <td>245131.88</td>\n",
       "      <td>137811.38</td>\n",
       "      <td>NaN</td>\n",
       "      <td>538909.28</td>\n",
       "      <td>538909.28</td>\n",
       "      <td>2011</td>\n",
       "      <td>NaN</td>\n",
       "      <td>San Francisco</td>\n",
       "      <td>NaN</td>\n",
       "    </tr>\n",
       "    <tr>\n",
       "      <th>2</th>\n",
       "      <td>3</td>\n",
       "      <td>ALBERT PARDINI</td>\n",
       "      <td>CAPTAIN III (POLICE DEPARTMENT)</td>\n",
       "      <td>212739.13</td>\n",
       "      <td>106088.18</td>\n",
       "      <td>16452.60</td>\n",
       "      <td>NaN</td>\n",
       "      <td>335279.91</td>\n",
       "      <td>335279.91</td>\n",
       "      <td>2011</td>\n",
       "      <td>NaN</td>\n",
       "      <td>San Francisco</td>\n",
       "      <td>NaN</td>\n",
       "    </tr>\n",
       "    <tr>\n",
       "      <th>3</th>\n",
       "      <td>4</td>\n",
       "      <td>CHRISTOPHER CHONG</td>\n",
       "      <td>WIRE ROPE CABLE MAINTENANCE MECHANIC</td>\n",
       "      <td>77916.00</td>\n",
       "      <td>56120.71</td>\n",
       "      <td>198306.90</td>\n",
       "      <td>NaN</td>\n",
       "      <td>332343.61</td>\n",
       "      <td>332343.61</td>\n",
       "      <td>2011</td>\n",
       "      <td>NaN</td>\n",
       "      <td>San Francisco</td>\n",
       "      <td>NaN</td>\n",
       "    </tr>\n",
       "    <tr>\n",
       "      <th>4</th>\n",
       "      <td>5</td>\n",
       "      <td>PATRICK GARDNER</td>\n",
       "      <td>DEPUTY CHIEF OF DEPARTMENT,(FIRE DEPARTMENT)</td>\n",
       "      <td>134401.60</td>\n",
       "      <td>9737.00</td>\n",
       "      <td>182234.59</td>\n",
       "      <td>NaN</td>\n",
       "      <td>326373.19</td>\n",
       "      <td>326373.19</td>\n",
       "      <td>2011</td>\n",
       "      <td>NaN</td>\n",
       "      <td>San Francisco</td>\n",
       "      <td>NaN</td>\n",
       "    </tr>\n",
       "    <tr>\n",
       "      <th>...</th>\n",
       "      <td>...</td>\n",
       "      <td>...</td>\n",
       "      <td>...</td>\n",
       "      <td>...</td>\n",
       "      <td>...</td>\n",
       "      <td>...</td>\n",
       "      <td>...</td>\n",
       "      <td>...</td>\n",
       "      <td>...</td>\n",
       "      <td>...</td>\n",
       "      <td>...</td>\n",
       "      <td>...</td>\n",
       "      <td>...</td>\n",
       "    </tr>\n",
       "    <tr>\n",
       "      <th>148649</th>\n",
       "      <td>148650</td>\n",
       "      <td>Roy I Tillery</td>\n",
       "      <td>Custodian</td>\n",
       "      <td>0.00</td>\n",
       "      <td>0.00</td>\n",
       "      <td>0.00</td>\n",
       "      <td>0.0</td>\n",
       "      <td>0.00</td>\n",
       "      <td>0.00</td>\n",
       "      <td>2014</td>\n",
       "      <td>NaN</td>\n",
       "      <td>San Francisco</td>\n",
       "      <td>NaN</td>\n",
       "    </tr>\n",
       "    <tr>\n",
       "      <th>148650</th>\n",
       "      <td>148651</td>\n",
       "      <td>Not provided</td>\n",
       "      <td>Not provided</td>\n",
       "      <td>NaN</td>\n",
       "      <td>NaN</td>\n",
       "      <td>NaN</td>\n",
       "      <td>NaN</td>\n",
       "      <td>0.00</td>\n",
       "      <td>0.00</td>\n",
       "      <td>2014</td>\n",
       "      <td>NaN</td>\n",
       "      <td>San Francisco</td>\n",
       "      <td>NaN</td>\n",
       "    </tr>\n",
       "    <tr>\n",
       "      <th>148651</th>\n",
       "      <td>148652</td>\n",
       "      <td>Not provided</td>\n",
       "      <td>Not provided</td>\n",
       "      <td>NaN</td>\n",
       "      <td>NaN</td>\n",
       "      <td>NaN</td>\n",
       "      <td>NaN</td>\n",
       "      <td>0.00</td>\n",
       "      <td>0.00</td>\n",
       "      <td>2014</td>\n",
       "      <td>NaN</td>\n",
       "      <td>San Francisco</td>\n",
       "      <td>NaN</td>\n",
       "    </tr>\n",
       "    <tr>\n",
       "      <th>148652</th>\n",
       "      <td>148653</td>\n",
       "      <td>Not provided</td>\n",
       "      <td>Not provided</td>\n",
       "      <td>NaN</td>\n",
       "      <td>NaN</td>\n",
       "      <td>NaN</td>\n",
       "      <td>NaN</td>\n",
       "      <td>0.00</td>\n",
       "      <td>0.00</td>\n",
       "      <td>2014</td>\n",
       "      <td>NaN</td>\n",
       "      <td>San Francisco</td>\n",
       "      <td>NaN</td>\n",
       "    </tr>\n",
       "    <tr>\n",
       "      <th>148653</th>\n",
       "      <td>148654</td>\n",
       "      <td>Joe Lopez</td>\n",
       "      <td>Counselor, Log Cabin Ranch</td>\n",
       "      <td>0.00</td>\n",
       "      <td>0.00</td>\n",
       "      <td>-618.13</td>\n",
       "      <td>0.0</td>\n",
       "      <td>-618.13</td>\n",
       "      <td>-618.13</td>\n",
       "      <td>2014</td>\n",
       "      <td>NaN</td>\n",
       "      <td>San Francisco</td>\n",
       "      <td>NaN</td>\n",
       "    </tr>\n",
       "  </tbody>\n",
       "</table>\n",
       "<p>148654 rows × 13 columns</p>\n",
       "</div>"
      ],
      "text/plain": [
       "            Id       EmployeeName  \\\n",
       "0            1     NATHANIEL FORD   \n",
       "1            2       GARY JIMENEZ   \n",
       "2            3     ALBERT PARDINI   \n",
       "3            4  CHRISTOPHER CHONG   \n",
       "4            5    PATRICK GARDNER   \n",
       "...        ...                ...   \n",
       "148649  148650      Roy I Tillery   \n",
       "148650  148651       Not provided   \n",
       "148651  148652       Not provided   \n",
       "148652  148653       Not provided   \n",
       "148653  148654          Joe Lopez   \n",
       "\n",
       "                                              JobTitle    BasePay  \\\n",
       "0       GENERAL MANAGER-METROPOLITAN TRANSIT AUTHORITY  167411.18   \n",
       "1                      CAPTAIN III (POLICE DEPARTMENT)  155966.02   \n",
       "2                      CAPTAIN III (POLICE DEPARTMENT)  212739.13   \n",
       "3                 WIRE ROPE CABLE MAINTENANCE MECHANIC   77916.00   \n",
       "4         DEPUTY CHIEF OF DEPARTMENT,(FIRE DEPARTMENT)  134401.60   \n",
       "...                                                ...        ...   \n",
       "148649                                       Custodian       0.00   \n",
       "148650                                    Not provided        NaN   \n",
       "148651                                    Not provided        NaN   \n",
       "148652                                    Not provided        NaN   \n",
       "148653                      Counselor, Log Cabin Ranch       0.00   \n",
       "\n",
       "        OvertimePay   OtherPay  Benefits   TotalPay  TotalPayBenefits  Year  \\\n",
       "0              0.00  400184.25       NaN  567595.43         567595.43  2011   \n",
       "1         245131.88  137811.38       NaN  538909.28         538909.28  2011   \n",
       "2         106088.18   16452.60       NaN  335279.91         335279.91  2011   \n",
       "3          56120.71  198306.90       NaN  332343.61         332343.61  2011   \n",
       "4           9737.00  182234.59       NaN  326373.19         326373.19  2011   \n",
       "...             ...        ...       ...        ...               ...   ...   \n",
       "148649         0.00       0.00       0.0       0.00              0.00  2014   \n",
       "148650          NaN        NaN       NaN       0.00              0.00  2014   \n",
       "148651          NaN        NaN       NaN       0.00              0.00  2014   \n",
       "148652          NaN        NaN       NaN       0.00              0.00  2014   \n",
       "148653         0.00    -618.13       0.0    -618.13           -618.13  2014   \n",
       "\n",
       "        Notes         Agency  Status  \n",
       "0         NaN  San Francisco     NaN  \n",
       "1         NaN  San Francisco     NaN  \n",
       "2         NaN  San Francisco     NaN  \n",
       "3         NaN  San Francisco     NaN  \n",
       "4         NaN  San Francisco     NaN  \n",
       "...       ...            ...     ...  \n",
       "148649    NaN  San Francisco     NaN  \n",
       "148650    NaN  San Francisco     NaN  \n",
       "148651    NaN  San Francisco     NaN  \n",
       "148652    NaN  San Francisco     NaN  \n",
       "148653    NaN  San Francisco     NaN  \n",
       "\n",
       "[148654 rows x 13 columns]"
      ]
     },
     "execution_count": 142,
     "metadata": {},
     "output_type": "execute_result"
    }
   ],
   "source": [
    "sal"
   ]
  },
  {
   "cell_type": "markdown",
   "id": "271adcf8-76a9-46df-b0b1-1f1f0947ecb3",
   "metadata": {},
   "source": [
    "# Explenation of the dataset: \n",
    "\n",
    "- **About Dataset**: I used salaries Dataset that is contain 13 columns and 148653 row  It provides detailed salary information for employees, including their job titles and various types of components\n",
    "  \n",
    "- **Selected Column**: I choose `TotalPay` column that is Represents the sum of `BasePay`,`OvertimePay` and `OtherPay` corresponds to each `EmployeeName` for different `JobTitle`\n",
    "\n",
    "- **The Reason of Selection**: `TotalPay` provides a complete view of direct compensation\n",
    "more **reasonable** for salary analysis than just `BasePay`\n",
    "\n",
    "**Dataset Structure**:\n",
    "- Used `.info()` to explore the structure\n",
    "- Shows each column's data type and non-null counts\n"
   ]
  },
  {
   "cell_type": "code",
   "execution_count": 903,
   "id": "300ee7f1-b248-412e-bffe-6781e601071c",
   "metadata": {},
   "outputs": [
    {
     "name": "stdout",
     "output_type": "stream",
     "text": [
      "<class 'pandas.core.frame.DataFrame'>\n",
      "RangeIndex: 148654 entries, 0 to 148653\n",
      "Data columns (total 13 columns):\n",
      " #   Column            Non-Null Count   Dtype  \n",
      "---  ------            --------------   -----  \n",
      " 0   Id                148654 non-null  int64  \n",
      " 1   EmployeeName      148654 non-null  object \n",
      " 2   JobTitle          148654 non-null  object \n",
      " 3   BasePay           148045 non-null  float64\n",
      " 4   OvertimePay       148650 non-null  float64\n",
      " 5   OtherPay          148650 non-null  float64\n",
      " 6   Benefits          112491 non-null  float64\n",
      " 7   TotalPay          148654 non-null  float64\n",
      " 8   TotalPayBenefits  148654 non-null  float64\n",
      " 9   Year              148654 non-null  int64  \n",
      " 10  Notes             0 non-null       float64\n",
      " 11  Agency            148654 non-null  object \n",
      " 12  Status            0 non-null       float64\n",
      "dtypes: float64(8), int64(2), object(3)\n",
      "memory usage: 14.7+ MB\n"
     ]
    }
   ],
   "source": [
    "sal.info()"
   ]
  },
  {
   "cell_type": "markdown",
   "id": "bf83153c-e867-4749-9021-f96789174b92",
   "metadata": {},
   "source": [
    "# Descriptive Statistics"
   ]
  },
  {
   "cell_type": "code",
   "execution_count": 662,
   "id": "cdf049da-6faa-4da6-9ba8-0b9eee3710cf",
   "metadata": {},
   "outputs": [],
   "source": [
    "# Cleaning the Data from zeros and outliers\n",
    "data = sal[sal['TotalPay'] > 0]\n",
    "Q1 = data['TotalPay'].quantile(0.25)\n",
    "Q3 = data['TotalPay'].quantile(0.75)\n",
    "IQR = Q3 - Q1\n",
    "\n",
    "df_clean = data[(data['TotalPay'] >= Q1 - 1.5 * IQR) & (data['TotalPay'] <= Q3 + 1.5 * IQR)]\n",
    "filtered_data=df_clean['TotalPay'] # After filtiring it drop out to 146981 row "
   ]
  },
  {
   "cell_type": "markdown",
   "id": "2405b8ea-e10f-4eac-8cc5-4503d25b64e4",
   "metadata": {},
   "source": [
    "**Mean of TotalPay**"
   ]
  },
  {
   "cell_type": "code",
   "execution_count": 634,
   "id": "152bfaf6-f4e9-4af2-a507-5589de140e97",
   "metadata": {},
   "outputs": [
    {
     "data": {
      "text/plain": [
       "73514.13734761636"
      ]
     },
     "execution_count": 634,
     "metadata": {},
     "output_type": "execute_result"
    }
   ],
   "source": [
    "filtered_data.mean()\n"
   ]
  },
  {
   "cell_type": "markdown",
   "id": "790fd03a-ee18-435e-87b4-d72325efcab1",
   "metadata": {},
   "source": [
    "**Median of TotalPay**"
   ]
  },
  {
   "cell_type": "code",
   "execution_count": 637,
   "id": "bc17b982-7a41-4411-94f5-d0aa6687f36f",
   "metadata": {},
   "outputs": [
    {
     "data": {
      "text/plain": [
       "71092.4"
      ]
     },
     "execution_count": 637,
     "metadata": {},
     "output_type": "execute_result"
    }
   ],
   "source": [
    "filtered_data.median()\n"
   ]
  },
  {
   "cell_type": "markdown",
   "id": "f5bf151d-ed0c-4651-bfb1-2ecf29448952",
   "metadata": {},
   "source": [
    "**Variance of TotalPay**"
   ]
  },
  {
   "cell_type": "code",
   "execution_count": 640,
   "id": "85d635c6-be90-473b-9434-441fd3d90989",
   "metadata": {},
   "outputs": [
    {
     "data": {
      "text/plain": [
       "2322627254.1705885"
      ]
     },
     "execution_count": 640,
     "metadata": {},
     "output_type": "execute_result"
    }
   ],
   "source": [
    "filtered_data.var()\n"
   ]
  },
  {
   "cell_type": "markdown",
   "id": "0a00c539-b26f-493d-8eea-004d8dba7a65",
   "metadata": {},
   "source": [
    "**Standard Deviation of TotalPay**"
   ]
  },
  {
   "cell_type": "code",
   "execution_count": 643,
   "id": "fc1db7ea-316c-42f3-8b3d-7e6537082a3c",
   "metadata": {},
   "outputs": [
    {
     "data": {
      "text/plain": [
       "48193.64329629571"
      ]
     },
     "execution_count": 643,
     "metadata": {},
     "output_type": "execute_result"
    }
   ],
   "source": [
    "filtered_data.std()"
   ]
  },
  {
   "cell_type": "markdown",
   "id": "fe675831-10b7-4364-9aa0-a22b27879f90",
   "metadata": {},
   "source": [
    "**Standard Error of TotalPay**"
   ]
  },
  {
   "cell_type": "code",
   "execution_count": 832,
   "id": "ec8eab0b-af01-4b88-8e99-e2351c50c22e",
   "metadata": {},
   "outputs": [
    {
     "data": {
      "text/plain": [
       "125.70691256787438"
      ]
     },
     "execution_count": 832,
     "metadata": {},
     "output_type": "execute_result"
    }
   ],
   "source": [
    "filtered_data.sem()\n"
   ]
  },
  {
   "cell_type": "markdown",
   "id": "d005f8b2-87b1-4258-84db-ccc7d36c6b52",
   "metadata": {},
   "source": [
    "### Population Standard Daviation\n",
    "\n",
    "In order to Find  **Minimum Required Sample Size, Population Mean Confidance Interval and Hypothesis Testing** we need an estimate of the **population standard deviation (σ)** since our sample size is more than 140,000 entries which is too big \n",
    "\n",
    "Although a sample standard deviation can be computed from the available dataset it will not give use an accurate estimation and unsuitable for calculations\n",
    "\n",
    "#### Calculating Population Standard Deviation approach\n",
    "To overcome this limitation, we use a statistically accepted method that calculate the **population standard deviation** based on **percentile values** :\n",
    "\n",
    "    σ= (P90-P10)/3.29\n",
    "\n",
    "- **σ**: estimated population standard deviation  \n",
    "- **P90**: 90 th percentile of the population  \n",
    "- **P10**: 10 th percentile of the population  \n",
    "- **3.29**: approximated number of standard deviations between the 10th and 90th percentiles in slightly skewed real world distributions (like income or salary)\n",
    "\n",
    "\n",
    "### **Source for percentiles**:\n",
    "To apply this estimation method, we used publicly available salary data for San Francisco from a trusted source:\n",
    "\n",
    "  - Gusto Salary Explorer for San Francisco (June 2025)  \n",
    "  - **Links**:\n",
    "  -  https://gusto.com/resources/research/salary/ca/san-francisco\n",
    "  - https://www.reddit.com/r/AskStatistics/comments/42gdf4/why_is_this_book_saying_there_are_329_standard/\n",
    "\n",
    "    **Used Data**:\n",
    "  - P10 = \\$45,240\n",
    "  -  P90 = \\$195,750\n",
    "\n",
    "---"
   ]
  },
  {
   "cell_type": "code",
   "execution_count": 846,
   "id": "7607b6b0-826a-406d-9908-4dce2c3ae0b4",
   "metadata": {},
   "outputs": [
    {
     "data": {
      "text/plain": [
       "45747.72036474164"
      ]
     },
     "execution_count": 846,
     "metadata": {},
     "output_type": "execute_result"
    }
   ],
   "source": [
    "# Given percentiles from Gusto (San Francisco salary data)\n",
    "\n",
    "P10 = 45240\n",
    "P90 = 195750\n",
    "sigma = (P90 - P10) / 3.29\n",
    "print(sigma)"
   ]
  },
  {
   "cell_type": "markdown",
   "id": "e82127aa-18e2-4644-bc8e-133ac59256c0",
   "metadata": {},
   "source": [
    "# Data Visualization"
   ]
  },
  {
   "cell_type": "markdown",
   "id": "ee3d8996-c3da-4ac5-9211-6d0df9d66ddc",
   "metadata": {},
   "source": [
    "**Histogram plot**:"
   ]
  },
  {
   "cell_type": "markdown",
   "id": "34321a5a-1a03-41bf-ad7f-2e9f26af85e9",
   "metadata": {},
   "source": [
    "**interpretations and observations**: \n",
    "\n",
    "- **Skewed Distribution**: The distribution of `TotalPay` is **right-skewed** meaning most employees earn lower salaries, and only a few earn very high salaries this is evident from the long tail stretching toward the right (higher pay values)\n",
    "\n",
    "- **Concentration of Salaries**:A large number of employees earn between **$0 - $120,000** with the **highest concentration** around **$0–$40,000** and **$80,000–$100,000**\n",
    "\n",
    "- **Outliers**: Extreme salaries **above $200,000** were filtered out to focus on the core distribution.\n"
   ]
  },
  {
   "cell_type": "code",
   "execution_count": 648,
   "id": "3341ded8-961e-47ab-88f3-1eb9399a8636",
   "metadata": {},
   "outputs": [
    {
     "data": {
      "text/plain": [
       "<Axes: xlabel='TotalPay', ylabel='Count'>"
      ]
     },
     "execution_count": 648,
     "metadata": {},
     "output_type": "execute_result"
    },
    {
     "data": {
      "image/png": "[encoded data removed]",
      "text/plain": [
       "<Figure size 640x480 with 1 Axes>"
      ]
     },
     "metadata": {},
     "output_type": "display_data"
    }
   ],
   "source": [
    "sns.histplot(filtered_data,kde=True)"
   ]
  },
  {
   "cell_type": "markdown",
   "id": "5ea2b8bb-6ddb-4357-9e73-0737192756dc",
   "metadata": {},
   "source": [
    "**Box Plot:**"
   ]
  },
  {
   "cell_type": "markdown",
   "id": "5be2d27b-a5f2-4e80-beb1-aaddab951cef",
   "metadata": {},
   "source": [
    "**interpretations and observations**: \n",
    "- **Median**:\n",
    "The thick black line inside the box shows the **median** of TotalPay it looks to be around **$70,000–$80,000** meaning half the employees earn less than this and half earn more\n",
    "\n",
    "- **Salary Distribution Range** :\n",
    "The box represents **the middle 50% of the data** from the **25%(Quarter1)**  to the **75%(Quarter3)**  most employees  `TotalPay` falls between about $40,000 - $120,000\n",
    "\n",
    "- **Typical Salary Range**:\n",
    "The **horizontal lines** extend to the **smallest and largest values within 1.5 x IQR(Interquartile Range Q1,Q2,Q3,Q4)** beyond this range are considered outliers\n",
    "\n",
    "- **Outliers**:\n",
    "All the circles to the right of the Typical Salary Range are **outliers** employees with unusually high `TotalPay` some earn over $400,000–$500,000, which is much higher than the majority\n"
   ]
  },
  {
   "cell_type": "code",
   "execution_count": 906,
   "id": "ff3b3465-370c-4d69-8ef0-0c0947e17b11",
   "metadata": {},
   "outputs": [
    {
     "data": {
      "text/plain": [
       "<Axes: xlabel='TotalPay'>"
      ]
     },
     "execution_count": 906,
     "metadata": {},
     "output_type": "execute_result"
    },
    {
     "data": {
      "image/png": "[encoded data removed]",
      "text/plain": [
       "<Figure size 640x480 with 1 Axes>"
      ]
     },
     "metadata": {},
     "output_type": "display_data"
    }
   ],
   "source": [
    "sns.boxplot(x='TotalPay',data=sal)\n"
   ]
  },
  {
   "cell_type": "markdown",
   "id": "73c8119c-8281-42b6-9d97-11c3a7e876ad",
   "metadata": {},
   "source": [
    "# Confidence Intervals"
   ]
  },
  {
   "cell_type": "markdown",
   "id": "c9308fa4-fd17-4bec-8529-66b7242f3d09",
   "metadata": {},
   "source": [
    "**confidence intervals for mean**:\n",
    "\n",
    "We have to make sure of these **Assumptions** :\n",
    "\n",
    "- The sample data is assumed to be **randomly selected** and **independent**\n",
    "  \n",
    "- For the mean: either the **sample size is large (n > 30)** or the data is approximately **normally distributed**(since dataset has appromexsently have 140800 data for large sample sizes **the Central Limit Theorem (CLT)** says the sampling distribution of **the mean becomes approximately normal** even if the original data isn’t)\n",
    "\n",
    "  \n",
    "I used **z_distribution** rather then **t_distribution** Tabel since we have population standard deviation \n",
    "\n",
    "The **formula** that is going to used is right below :\n",
    "\n",
    "    CI μ= x(mean) ±z α/2 * σ/√n\n",
    "\n",
    "where :\n",
    "- x =  the mean of the data\n",
    "- z ⍺/2,df =z-critical value from the z-distribution\n",
    "- σ = population standard deviation\n",
    "- n= sample size\n",
    "- ⍺= 1-0.95=0.05"
   ]
  },
  {
   "cell_type": "code",
   "execution_count": 893,
   "id": "7bc02f26-da6b-4169-a161-8ea552e91e8f",
   "metadata": {},
   "outputs": [
    {
     "name": "stdout",
     "output_type": "stream",
     "text": [
      "The avrage salary for all employees is 73514.13734761636\n",
      "\n",
      "95% Confidence Interval for Mean:(73280.26065160471 , 73748.014043628)\n",
      "\n",
      "Based on the sample the average salary (mean) is approximately $73514.14\n",
      "we estimate that the true average salary for all employees lies between ($73280.26 , $73748.01) \n",
      "with 95% confidence\n"
     ]
    }
   ],
   "source": [
    "# used data:\n",
    "    # filtered_data\n",
    "    # sigma (Populaiton std)\n",
    "\n",
    "# Sample statistics\n",
    "\n",
    "n = len(filtered_data) # size of the data\n",
    "mean = np.mean(filtered_data)\n",
    "print(f\"The avrage salary for all employees is {mean}\\n\")\n",
    "standard_error = sigma / np.sqrt(n)       # standard error\n",
    "\n",
    "# 95% confidence interval using z-distribution\n",
    "\n",
    "confidence = 0.95\n",
    "alpha=1-confidence\n",
    "\n",
    "# finding t value from the tabel\n",
    "\n",
    "z_crit = stats.norm.ppf(1 - 0.05/2)\n",
    "\n",
    "# finding  upper and lower intervals\n",
    "ci_mean_lower = mean - z_crit * standard_error\n",
    "ci_mean_upper = mean + z_crit * standard_error\n",
    "print(f\"95% Confidence Interval for Mean:({ci_mean_lower} , {ci_mean_upper})\\n\")\n",
    "\n",
    "\n",
    "print(f\"Based on the sample the average salary (mean) is approximately ${mean:.2f}\\nwe estimate that the true average salary for all employees lies between (${ci_mean_lower:.2f} , ${ci_mean_upper:.2f}) \\nwith 95% confidence\")\n"
   ]
  },
  {
   "cell_type": "markdown",
   "id": "f66f1961-15ba-46e9-985e-e77f97bf6614",
   "metadata": {},
   "source": [
    "---"
   ]
  },
  {
   "cell_type": "markdown",
   "id": "6a23362e-93b2-4963-b633-69457c598e69",
   "metadata": {},
   "source": [
    "**confidence intervals for variance**:\n",
    "\n",
    "I used **chi-squared distribution** Tabel which models the distribution of sample variances because variance isn't normally distributed\n",
    "\n",
    "The **formula** that is going to used is right below :\n",
    "\n",
    "    CI variance=((n−1)*(s**2)/Xlower(1-α/2) ,(n−1)*(s**2)/Xupper(α/2))\n",
    "\n",
    "where:\n",
    "- n= sampel size\n",
    "- s**2= sampel vairance\n",
    "- n-1= Degrees of freedom (df)\n",
    "- Xlower(1-α/2), Xupper(α/2)= critical values from chi-squared distribution Table\n"
   ]
  },
  {
   "cell_type": "code",
   "execution_count": 889,
   "id": "b0c13704-115c-40ac-852a-4385c2447c62",
   "metadata": {},
   "outputs": [
    {
     "name": "stdout",
     "output_type": "stream",
     "text": [
      "The variance of all employees is 2322627254.1705885\n",
      "\n",
      "95% Confidence Interval for Variance:(2305925877.0254383, 2339511582.039116)\n",
      "\n",
      "Based on the sample the variance of TotalPay is approximately 2322627254.17\n",
      "we estimate that the true population variance of employee salaries lies between (2305925877.03,2339511582.04)\n",
      "with 95% confidence\n"
     ]
    }
   ],
   "source": [
    "# used data:\n",
    "    # filtered data\n",
    "\n",
    "# Sample statistics\n",
    "\n",
    "n = len(filtered_data) #size of the data\n",
    "df = n - 1\n",
    "sample_variance = np.var(filtered_data, ddof=1) #variance of the data\n",
    "\n",
    "print(f\"The variance of all employees is {sample_variance}\\n\")\n",
    "\n",
    "# Confidence level\n",
    "confidence = 0.95\n",
    "alpha = 1 - confidence\n",
    "\n",
    "# Chi-squared Tabel critical values\n",
    "chi2_upper = stats.chi2.ppf(alpha / 2, df)\n",
    "chi2_lower = stats.chi2.ppf(1 - alpha / 2, df)\n",
    "\n",
    "# Confidence interval for the variance\n",
    "chi_var_lower =df*sample_variance/chi2_lower\n",
    "chi_var_upper =df*sample_variance/chi2_upper\n",
    "print(f\"95% Confidence Interval for Variance:({chi_var_lower}, {chi_var_upper})\\n\")\n",
    "\n",
    "print(f\"Based on the sample the variance of TotalPay is approximately {sample_variance:.2f}\\nwe estimate that the true population variance of employee salaries lies between ({chi_var_lower:.2f},{chi_var_upper:.2f})\\nwith 95% confidence\")"
   ]
  },
  {
   "cell_type": "markdown",
   "id": "0a408a79-a12e-425f-9cbe-a77082d9b3d5",
   "metadata": {},
   "source": [
    "---"
   ]
  },
  {
   "cell_type": "markdown",
   "id": "7d56356d-710f-40c4-9a35-d23e49a4f867",
   "metadata": {},
   "source": [
    "# Sample Size Estimation"
   ]
  },
  {
   "cell_type": "markdown",
   "id": "9647c912-5950-4add-8050-4897841d69e3",
   "metadata": {},
   "source": [
    "### Fisrt way"
   ]
  },
  {
   "cell_type": "markdown",
   "id": "a01db525-bbe2-42ed-9799-0e3930877432",
   "metadata": {},
   "source": [
    "#### Minimum Sample Size for Estimating a Mean(Z Table)\n",
    "\n",
    "            n=(Z⋅σ/E)**2\n",
    "    \n",
    "- **n**: minimum required sample size  \n",
    "- **Z**: Z-score corresponding to the desired confidence level  \n",
    "  - For 90% confidence: Z nearly equal to 1.645  \n",
    "- **σ**: estimated population standard deviation\n",
    "- **E**: margin of error (maximum acceptable error), here E = 0.1  \n",
    "\n",
    "These formulas are used when the full population data is not available and an estimate is needed based on known percentiles and desired confidence in the results.\n"
   ]
  },
  {
   "cell_type": "code",
   "execution_count": 844,
   "id": "89274f74-ef99-4bb3-8372-442fb34d691d",
   "metadata": {},
   "outputs": [
    {
     "name": "stdout",
     "output_type": "stream",
     "text": [
      "Estimated population standard deviation : $45,747.72\n",
      "\n",
      "Required minimum sample size : 566,230,721,977\n",
      "\n",
      "To estimate the population mean TotalPay with a margin of error of 0.1 and 90% confidence \n",
      "we need at least 566,230,721,977 employees in our sample.\n"
     ]
    }
   ],
   "source": [
    "# Used Data\n",
    "    #sigma(Population Std)\n",
    "\n",
    "Z =z_score = norm.ppf(1 - (1 - confidence) / 2 )  # Z-score for 90% confidence\n",
    "E = 0.1   \n",
    "\n",
    "# Calculate minimum required sample size\n",
    "n_required = (Z * sigma / E) ** 2\n",
    "\n",
    "print(f\"Estimated population standard deviation : ${sigma:,.2f}\\n\")\n",
    "print(f\"Required minimum sample size : {n_required:,.0f}\\n\")\n",
    "print(f\"To estimate the population mean TotalPay with a margin of error of 0.1 and 90% confidence \\nwe need at least {n_required:,.0f} employees in our sample.\")\n",
    "\n"
   ]
  },
  {
   "cell_type": "markdown",
   "id": "dde9e025-0966-4b4e-900e-4d8f98981f5d",
   "metadata": {},
   "source": [
    "---"
   ]
  },
  {
   "cell_type": "markdown",
   "id": "c5be55ce-8e1e-4fe3-9900-d4fd143b1ce7",
   "metadata": {},
   "source": [
    "### Second Way: Using Sample Standard Deviation\n",
    "\n",
    "In case a reliable external source for the **population standard deviation (σ)** is not available, an alternative approach is to use the **sample standard deviation (S)** calculated from the dataset.\n",
    "\n",
    "Although this method is not as accurate it provides a useful approximation \n",
    "\n",
    "---\n",
    "Using the follwoing **formula**:\n",
    "    \n",
    "        n=(Z⋅S/E)**2\n",
    "\n",
    "where:\n",
    "\n",
    "- n = required sample size\n",
    "- Z = Z-score for your confidence level from Z_Tables\n",
    "    - For 90% confidence: Z nearly equal to 1.645  \n",
    "- S = sample standard deviation\n",
    "- E = margin of error E= 0.1\n",
    "        "
   ]
  },
  {
   "cell_type": "code",
   "execution_count": 823,
   "id": "dda701c9-146b-4ad6-8dc0-f573e73e451d",
   "metadata": {},
   "outputs": [
    {
     "name": "stdout",
     "output_type": "stream",
     "text": [
      "Estimated Sample standard deviation : $48,193.48\n",
      "\n",
      "Minimum required sample size: 628,392,621,022\n",
      "\n",
      "To estimate the population mean TotalPay with a margin of error of 0.1 and 90% confidence \n",
      "we need at least 628,392,621,022 employees in our sample.\n"
     ]
    }
   ],
   "source": [
    "# Used Data\n",
    "    # filtered_data\n",
    "\n",
    "# variables\n",
    "confidence = 0.90\n",
    "margin_of_error = 0.1\n",
    "std_dev = np.std(filtered_data)\n",
    "\n",
    "# z-value for 90% confidence nearly equal to 1.645\n",
    "z_score = norm.ppf(1 - (1 - confidence) / 2)\n",
    "\n",
    "\n",
    "n_required = (z_score * std_dev / margin_of_error) ** 2\n",
    "\n",
    "# Round up to nearest number since it isn't make sense to be float value\n",
    "n_required = int(np.ceil(n_required))\n",
    "print(f\"Estimated Sample standard deviation : ${std_dev:,.2f}\\n\")\n",
    "print(f\"Minimum required sample size: {n_required:,.0f}\\n\")\n",
    "print(f\"To estimate the population mean TotalPay with a margin of error of 0.1 and 90% confidence \\nwe need at least {n_required:,.0f} employees in our sample.\")\n"
   ]
  },
  {
   "cell_type": "markdown",
   "id": "1a22a34e-1f3c-4e7e-9e6a-1c089d632513",
   "metadata": {},
   "source": [
    "---"
   ]
  },
  {
   "cell_type": "markdown",
   "id": "89b26d5a-5eb8-46ca-bf34-13080fb13596",
   "metadata": {},
   "source": [
    "# Hypothesis Testing"
   ]
  },
  {
   "cell_type": "markdown",
   "id": "51da5358-b752-4736-b2b3-ea1e44187e67",
   "metadata": {},
   "source": [
    "### We are testing the following hypotheses:\n",
    "\n",
    "    Is the average TotalPay different from $74,000?\n",
    "    \n",
    "- **Null Hypothesis (H0)**: The true average salary (TotalPay) is $74,000\n",
    "   \n",
    "- **Alternative Hypothesis (H1)**: The true average salary is not $74,000\n",
    "\n",
    "- **Graph Type**: Two Tailed Graph\n",
    "---\n",
    "\n",
    "### Assumptions:\n",
    "\n",
    "- Confidence level: **95%** --> significance level **⍺ = 0.05**\n",
    "\n",
    "---\n",
    "### Method: \n",
    "\n",
    "- Since population standard deviation is known we use **z-distribution**.\n",
    "\n",
    "So We use the following formula In order to find the ranges of accepted part in the graph:\n",
    "\n",
    "        CI μ= x(mean) -mu_0 * sigma/√n\n",
    "\n",
    "\n",
    "**Where:**\n",
    "\n",
    "- x = sample mean  \n",
    "- sigma = population standard deviation  \n",
    "- n = sample size\n",
    "- mu_0= Hypothesized mean\n",
    "- s/√n = standard error of the mean\n",
    "\n",
    "\n",
    "\n",
    "---\n",
    "### Decision :\n",
    "\n",
    "We decided If the hypothesized mean \\( mu_0 = 74,000 \\) lies **inside** the confidence interval then it Fail to reject H0. If \\( mu_0 \\) lies **outside** the confidence interval → **Reject H0**\n",
    "\n",
    "---\n",
    "### Interpretation:\n",
    "\n",
    "Based on the sample the average salary (mean) is approximately **\\$74,954.38**\n",
    "We estimate that the **true average salary** for all employees lies between **\\$74,697.64** and **\\$75,211.12** with 95% confidence\n",
    "Therefore we conclude that the average employee salary is **significantly different** from \\$74,000\n",
    "\n"
   ]
  },
  {
   "cell_type": "code",
   "execution_count": 900,
   "id": "3a20a28f-bb71-46a3-8e43-98dc5d512175",
   "metadata": {},
   "outputs": [
    {
     "name": "stdout",
     "output_type": "stream",
     "text": [
      "1.959963984540054\n",
      "Z = -4.07 lies outside ±1.96 → Reject H₀\n"
     ]
    },
    {
     "data": {
      "image/png": "[encoded data removed]",
      "text/plain": [
       "<Figure size 1000x600 with 1 Axes>"
      ]
     },
     "metadata": {},
     "output_type": "display_data"
    }
   ],
   "source": [
    "# used data:\n",
    "    # filtered_data\n",
    "    # sigma(populatoin standard daviation) From Sample Size Estimation Part\n",
    "\n",
    "# needed variables\n",
    "n = len(filtered_data)\n",
    "mean_sample = np.mean(filtered_data)\n",
    "alpha = 0.05\n",
    "se = sigma / np.sqrt(n)\n",
    "\n",
    "# Critical z-value from Z table\n",
    "z_crit = norm.ppf(1 - (1 - confidence) / 2)\n",
    "\n",
    "print(z_score)\n",
    "\n",
    "# Hypothesized mean\n",
    "mu_0 = 74000\n",
    "\n",
    "# Test Z\n",
    "test_z= (mean_sample-mu_0)/se\n",
    "z_range = np.linspace(-4, 4, 1000)\n",
    "y = norm.pdf(z_range)\n",
    "\n",
    "# Create the plot\n",
    "plt.figure(figsize=(10, 6))\n",
    "plt.plot(z_range, y, label='Z-distribution')\n",
    "\n",
    "# Shade the rejection regions\n",
    "plt.fill_between(z_range, y, where=(z_range <= -z_crit), color='red', alpha=0.3, label='Reject H0 (Left Tail)')\n",
    "plt.fill_between(z_range, y, where=(z_range >= z_crit), color='red', alpha=0.3, label='Reject H0 (Right Tail)')\n",
    "\n",
    "# Shade the acceptance region\n",
    "plt.fill_between(z_range, y, where=(z_range > -z_crit) & (z_range < z_crit), color='green', alpha=0.3, label='Fail to Reject H0')\n",
    "\n",
    "# Mark the test z-value\n",
    "plt.axvline(test_z, color='purple', linestyle='--', linewidth=2, label=f'Test Z = {test_z:.2f}')\n",
    "\n",
    "# Labels and decorations\n",
    "plt.title('Z-Test: Acceptance and Rejection Regions (Two-Tailed Test)')\n",
    "plt.xlabel('Z value')\n",
    "plt.ylabel('Probability Density')\n",
    "plt.axvline(-z_crit, color='black', linestyle=':', label=f'Critical Z = ±{z_crit:.2f}')\n",
    "plt.axvline(z_crit, color='black', linestyle=':')\n",
    "plt.legend()\n",
    "\n",
    "if -z_crit <= test_z <= z_crit:\n",
    "    print(f\"Z = {test_z:.2f} lies between ±{z_crit:.2f} → Fail to reject H₀\")\n",
    "else:\n",
    "    print(f\"Z = {test_z:.2f} lies outside ±{z_crit:.2f} → Reject H₀\")\n"
   ]
  }
 ],
 "metadata": {
  "kernelspec": {
   "display_name": "Python [conda env:base] *",
   "language": "python",
   "name": "conda-base-py"
  },
  "language_info": {
   "codemirror_mode": {
    "name": "ipython",
    "version": 3
   },
   "file_extension": ".py",
   "mimetype": "text/x-python",
   "name": "python",
   "nbconvert_exporter": "python",
   "pygments_lexer": "ipython3",
   "version": "3.12.7"
  }
 },
 "nbformat": 4,
 "nbformat_minor": 5
}
